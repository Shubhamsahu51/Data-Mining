{
  "nbformat": 4,
  "nbformat_minor": 0,
  "metadata": {
    "colab": {
      "name": "MIT2020051_Lab Assignment 1.ipynb",
      "provenance": [],
      "collapsed_sections": [],
      "authorship_tag": "ABX9TyMWmrN7rBzsAwXMEJu1q7v6",
      "include_colab_link": true
    },
    "kernelspec": {
      "name": "python3",
      "display_name": "Python 3"
    }
  },
  "cells": [
    {
      "cell_type": "markdown",
      "metadata": {
        "id": "view-in-github",
        "colab_type": "text"
      },
      "source": [
        "<a href=\"https://colab.research.google.com/github/Shubhamsahu51/Data-Mining/blob/main/MIT2020051_Lab_Assignment_1.ipynb\" target=\"_parent\"><img src=\"https://colab.research.google.com/assets/colab-badge.svg\" alt=\"Open In Colab\"/></a>"
      ]
    },
    {
      "cell_type": "markdown",
      "metadata": {
        "id": "n1H-k_XYUiA5"
      },
      "source": [
        "# Read dataset "
      ]
    },
    {
      "cell_type": "code",
      "metadata": {
        "id": "-B70pDjvQtyE"
      },
      "source": [
        "import numpy as np\r\n",
        "import pandas as pd\r\n",
        "import math as math\r\n",
        "import matplotlib.pyplot as plt\r\n",
        "\r\n",
        "mydata = pd.read_csv('/content/crop_production.csv')\r\n",
        "df = mydata.copy()"
      ],
      "execution_count": 55,
      "outputs": []
    },
    {
      "cell_type": "markdown",
      "metadata": {
        "id": "duY22SnIVY9l"
      },
      "source": [
        "# Slice the transform dataset in two different dataframe"
      ]
    },
    {
      "cell_type": "code",
      "metadata": {
        "id": "TZ9XxqYKVp9t",
        "colab": {
          "base_uri": "https://localhost:8080/"
        },
        "outputId": "0b759478-48fc-4eb4-b47c-6463d7f4fbd6"
      },
      "source": [
        "splitdata = math.ceil(50/100*246091) \r\n",
        "\r\n",
        "data1 = df.iloc[:splitdata,:] \r\n",
        "data2 = df.iloc[splitdata + 1:,:] \r\n",
        "\r\n",
        "print(\"data1 Dimension : \" ,data1.shape)\r\n",
        "print(\"data2 Dimension : \", data2.shape)\r\n"
      ],
      "execution_count": 56,
      "outputs": [
        {
          "output_type": "stream",
          "text": [
            "data1 Dimension :  (123046, 7)\n",
            "data2 Dimension :  (123044, 7)\n"
          ],
          "name": "stdout"
        }
      ]
    },
    {
      "cell_type": "markdown",
      "metadata": {
        "id": "JWxoR2VCWRWN"
      },
      "source": [
        "# Find the count of NaN values attribute(feature) wise in both dataframes"
      ]
    },
    {
      "cell_type": "code",
      "metadata": {
        "id": "mIhuvFWUWYu6",
        "colab": {
          "base_uri": "https://localhost:8080/"
        },
        "outputId": "6ba2f2c6-15d4-43a0-a4e7-e41d54c2dc6e"
      },
      "source": [
        "read = pd.DataFrame(data1, columns =['State_Name', 'District_Name','Crop_Year','Season','Crop','Area','Production'], )  \r\n",
        "print(\"NAN values in each attribute of data1 :\\n\\n\",read.isnull().sum()) \r\n",
        "\r\n",
        "read = pd.DataFrame(data2, columns =['State_Name','District_Name','Crop_Year','Season','Crop','Area','Production'], ) \r\n",
        "print(\"\\n\\n\\nNAN values in each attribute of data2:\\n\\n\",read.isnull().sum())"
      ],
      "execution_count": 57,
      "outputs": [
        {
          "output_type": "stream",
          "text": [
            "NAN values in each attribute of data1 :\n",
            "\n",
            " State_Name          0\n",
            "District_Name       0\n",
            "Crop_Year           0\n",
            "Season              0\n",
            "Crop                0\n",
            "Area                0\n",
            "Production       2494\n",
            "dtype: int64\n",
            "\n",
            "\n",
            "\n",
            "NAN values in each attribute of data2:\n",
            "\n",
            " State_Name          0\n",
            "District_Name       0\n",
            "Crop_Year           0\n",
            "Season              0\n",
            "Crop                0\n",
            "Area                0\n",
            "Production       1236\n",
            "dtype: int64\n"
          ],
          "name": "stdout"
        }
      ]
    },
    {
      "cell_type": "markdown",
      "metadata": {
        "id": "5yBJzhidWjwY"
      },
      "source": [
        "# Use ‘ffill’ to replace NaN values in data1"
      ]
    },
    {
      "cell_type": "code",
      "metadata": {
        "id": "E3YlhQGUW1Gy",
        "colab": {
          "base_uri": "https://localhost:8080/"
        },
        "outputId": "dc845cbb-7b35-4483-eba1-37c08e0f5681"
      },
      "source": [
        "data1 = data1.fillna(method = 'ffill')\r\n",
        "read = pd.DataFrame(data1, columns =['State_Name','District_Name','Crop_Year','Season','Crop','Area','Production'], )   \r\n",
        "print(\"After ffill method NAN values in each attribute of data1:\\n\\n\",read.isnull().sum())\r\n"
      ],
      "execution_count": 58,
      "outputs": [
        {
          "output_type": "stream",
          "text": [
            "After ffill method NAN values in each attribute of data1:\n",
            "\n",
            " State_Name       0\n",
            "District_Name    0\n",
            "Crop_Year        0\n",
            "Season           0\n",
            "Crop             0\n",
            "Area             0\n",
            "Production       0\n",
            "dtype: int64\n"
          ],
          "name": "stdout"
        }
      ]
    },
    {
      "cell_type": "markdown",
      "metadata": {
        "id": "aKuNgcCPYSbK"
      },
      "source": [
        "# Use ‘bfill’ to replace NaN values in data2"
      ]
    },
    {
      "cell_type": "code",
      "metadata": {
        "id": "2-ZKefncYWbm",
        "colab": {
          "base_uri": "https://localhost:8080/"
        },
        "outputId": "8b62f58c-7dcd-4626-a3ae-1803ff5a4680"
      },
      "source": [
        "data2 = data2.fillna(method = 'bfill')\r\n",
        "\r\n",
        "read = pd.DataFrame(data2, columns =['State_Name','District_Name','Crop_Year','Season','Crop','Area','Production'], ) \r\n",
        "              \r\n",
        "print(\"After ffill method NAN values in each attribute of data2:\\n\\n\",read.isna().sum())\r\n",
        "\r\n",
        "data1 = df.iloc[:splitdata,:] \r\n",
        "data2 = df.iloc[splitdata + 1:,:]"
      ],
      "execution_count": 59,
      "outputs": [
        {
          "output_type": "stream",
          "text": [
            "After ffill method NAN values in each attribute of data2:\n",
            "\n",
            " State_Name       0\n",
            "District_Name    0\n",
            "Crop_Year        0\n",
            "Season           0\n",
            "Crop             0\n",
            "Area             0\n",
            "Production       0\n",
            "dtype: int64\n"
          ],
          "name": "stdout"
        }
      ]
    },
    {
      "cell_type": "markdown",
      "metadata": {
        "id": "nNCx9Qk5eG9J"
      },
      "source": [
        "# Find the mean value of every attribute and replace with NaN in data1"
      ]
    },
    {
      "cell_type": "code",
      "metadata": {
        "id": "Ab4ZbCHkeN9D",
        "colab": {
          "base_uri": "https://localhost:8080/"
        },
        "outputId": "edeb8859-57ac-45ad-896b-3757aae4c3be"
      },
      "source": [
        "meandata1 = data1['Production'].mean();\r\n",
        "print(\"Mean of attributes in data1 is :\", meandata1)\r\n",
        "\r\n",
        "read = pd.DataFrame(data1, columns =['State_Name','District_Name','Crop_Year','Season','Crop','Area','Production'], )   \r\n",
        "print(\"\\n\\nCount total NaN at each column in a DataFrame:\\n\\n\",read.isnull().sum())\r\n",
        "\r\n",
        "data1 = data1.fillna(meandata1)\r\n",
        "print(\"\\n\\nAfter replacing NAN with mean\\n\\n\")\r\n",
        "\r\n",
        "read = pd.DataFrame(data1, columns =['State_Name','District_Name','Crop_Year','Season','Crop','Area','Production'], )   \r\n",
        "print(read.isnull().sum())\r\n"
      ],
      "execution_count": 60,
      "outputs": [
        {
          "output_type": "stream",
          "text": [
            "Mean of attributes in data1 is : 1005660.005019244\n",
            "\n",
            "\n",
            "Count total NaN at each column in a DataFrame:\n",
            "\n",
            " State_Name          0\n",
            "District_Name       0\n",
            "Crop_Year           0\n",
            "Season              0\n",
            "Crop                0\n",
            "Area                0\n",
            "Production       2494\n",
            "dtype: int64\n",
            "\n",
            "\n",
            "After replacing NAN with mean\n",
            "\n",
            "\n",
            "State_Name       0\n",
            "District_Name    0\n",
            "Crop_Year        0\n",
            "Season           0\n",
            "Crop             0\n",
            "Area             0\n",
            "Production       0\n",
            "dtype: int64\n"
          ],
          "name": "stdout"
        }
      ]
    },
    {
      "cell_type": "markdown",
      "metadata": {
        "id": "50gguVipeTTr"
      },
      "source": [
        "# Find the mean value of every attribute and replace with NaN in data2"
      ]
    },
    {
      "cell_type": "code",
      "metadata": {
        "id": "9WCnKyUgeXdW",
        "colab": {
          "base_uri": "https://localhost:8080/"
        },
        "outputId": "57f20102-da6d-4cad-937c-93ea4a8af840"
      },
      "source": [
        "meandata2 = data2['Production'].mean();\r\n",
        "print(\"Mean of attributes in data2 is :\", meandata2)\r\n",
        "\r\n",
        "read = pd.DataFrame(data2, columns =['State_Name','District_Name','Crop_Year','Season','Crop','Area','Production'], )   \r\n",
        "print(\"\\n\\nCount total NaN at each column in a DataFrame:\\n\\n\",read.isnull().sum())\r\n",
        "\r\n",
        "data2 = data2.fillna(meandata2)\r\n",
        "print(\"\\n\\nAfter replacing NAN with mean\\n\\n\")\r\n",
        "\r\n",
        "read = pd.DataFrame(data2, columns =['State_Name','District_Name','Crop_Year','Season','Crop','Area','Production'], )   \r\n",
        "print(read.isnull().sum())"
      ],
      "execution_count": 61,
      "outputs": [
        {
          "output_type": "stream",
          "text": [
            "Mean of attributes in data2 is : 163714.9311811209\n",
            "\n",
            "\n",
            "Count total NaN at each column in a DataFrame:\n",
            "\n",
            " State_Name          0\n",
            "District_Name       0\n",
            "Crop_Year           0\n",
            "Season              0\n",
            "Crop                0\n",
            "Area                0\n",
            "Production       1236\n",
            "dtype: int64\n",
            "\n",
            "\n",
            "After replacing NAN with mean\n",
            "\n",
            "\n",
            "State_Name       0\n",
            "District_Name    0\n",
            "Crop_Year        0\n",
            "Season           0\n",
            "Crop             0\n",
            "Area             0\n",
            "Production       0\n",
            "dtype: int64\n"
          ],
          "name": "stdout"
        }
      ]
    },
    {
      "cell_type": "markdown",
      "metadata": {
        "id": "Z4pppN6ZYnTn"
      },
      "source": [
        ""
      ]
    },
    {
      "cell_type": "markdown",
      "metadata": {
        "id": "5AKwlCnHeey1"
      },
      "source": [
        "# Find correlation in data1, data2 and visualize it"
      ]
    },
    {
      "cell_type": "code",
      "metadata": {
        "id": "ktja57Vsej0z",
        "colab": {
          "base_uri": "https://localhost:8080/"
        },
        "outputId": "17e69a2e-bbb7-4e42-ee02-1cd4f2dda96d"
      },
      "source": [
        "data1 = df.iloc[:splitdata,:] \r\n",
        "data2 = df.iloc[splitdata + 1:,:]\r\n",
        "\r\n",
        "print(\"\\nCorrelation in data1, data2\\n\\n\")\r\n",
        "print(data1.corrwith(data2))"
      ],
      "execution_count": 62,
      "outputs": [
        {
          "output_type": "stream",
          "text": [
            "\n",
            "Correlation in data1, data2\n",
            "\n",
            "\n",
            "Crop_Year    NaN\n",
            "Area         NaN\n",
            "Production   NaN\n",
            "dtype: float64\n"
          ],
          "name": "stdout"
        }
      ]
    },
    {
      "cell_type": "markdown",
      "metadata": {
        "id": "5TZigw4IeoQC"
      },
      "source": [
        "# Convert data1 into Min Max normalized format."
      ]
    },
    {
      "cell_type": "code",
      "metadata": {
        "id": "8yhOnHdwen-F",
        "colab": {
          "base_uri": "https://localhost:8080/"
        },
        "outputId": "ad0c21bd-452b-4066-9054-cc120ce9f096"
      },
      "source": [
        "from sklearn.preprocessing import MinMaxScaler\r\n",
        "scaler = MinMaxScaler()\r\n",
        "X = pd.DataFrame(data1, columns =['Area','Production'], )\r\n",
        "scaler.fit(X)\r\n",
        "MinMaxScaler(copy=True, feature_range=(0, 1))\r\n",
        "\r\n",
        "print(\"After Min Max normalization\\n\\n\")\r\n",
        "print(scaler.transform(X))\r\n"
      ],
      "execution_count": 63,
      "outputs": [
        {
          "output_type": "stream",
          "text": [
            "After Min Max normalization\n",
            "\n",
            "\n",
            "[[1.42978175e-03 1.77777778e-06]\n",
            " [2.23481788e-06 8.88888889e-10]\n",
            " [1.16256138e-04 2.85333333e-07]\n",
            " ...\n",
            " [1.09460468e-06 8.88888889e-10]\n",
            " [9.07609710e-06 7.11111111e-09]\n",
            " [6.28302628e-02 4.03582222e-05]]\n"
          ],
          "name": "stdout"
        }
      ]
    },
    {
      "cell_type": "markdown",
      "metadata": {
        "id": "97cqGGnsfG2W"
      },
      "source": [
        "# Convert data2 into standardization format."
      ]
    },
    {
      "cell_type": "code",
      "metadata": {
        "id": "j7jxavR_f-sh",
        "colab": {
          "base_uri": "https://localhost:8080/"
        },
        "outputId": "27696dfb-2864-4567-f69c-5835c6309d8f"
      },
      "source": [
        "from sklearn.preprocessing import StandardScaler\r\n",
        "\r\n",
        "from sklearn.preprocessing import StandardScaler\r\n",
        "\r\n",
        "standardscaler = StandardScaler()\r\n",
        "Y = pd.DataFrame(data1, columns =['Area','Production'], )\r\n",
        "\r\n",
        "Y = standardscaler.fit_transform(Y)\r\n",
        "\r\n",
        "print(\"After Standard normalization\\n\\n\")\r\n",
        "print(scaler.transform(Y))"
      ],
      "execution_count": 64,
      "outputs": [
        {
          "output_type": "stream",
          "text": [
            "After Standard normalization\n",
            "\n",
            "\n",
            "[[-3.54578862e-07 -3.85463505e-11]\n",
            " [-3.99133966e-07 -3.86231237e-11]\n",
            " [-3.95575252e-07 -3.86108338e-11]\n",
            " ...\n",
            " [-3.99169553e-07 -3.86231237e-11]\n",
            " [-3.98920443e-07 -3.86228548e-11]\n",
            " [ 1.56178881e-06 -3.68794242e-11]]\n"
          ],
          "name": "stdout"
        }
      ]
    }
  ]
}